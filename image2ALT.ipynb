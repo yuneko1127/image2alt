{
  "nbformat": 4,
  "nbformat_minor": 0,
  "metadata": {
    "colab": {
      "provenance": [],
      "mount_file_id": "1gEJ2xFq_2UoIHUq4ZYdAw4bZssxJjuaY",
      "authorship_tag": "ABX9TyPINCBusrQTiaDysxLkVDqR",
      "include_colab_link": true
    },
    "kernelspec": {
      "name": "python3",
      "display_name": "Python 3"
    },
    "language_info": {
      "name": "python"
    }
  },
  "cells": [
    {
      "cell_type": "markdown",
      "metadata": {
        "id": "view-in-github",
        "colab_type": "text"
      },
      "source": [
        "<a href=\"https://colab.research.google.com/github/yuneko1127/image2alt/blob/main/image2ALT.ipynb\" target=\"_parent\"><img src=\"https://colab.research.google.com/assets/colab-badge.svg\" alt=\"Open In Colab\"/></a>"
      ]
    },
    {
      "cell_type": "markdown",
      "source": [
        "# Image to ALT"
      ],
      "metadata": {
        "id": "V8bHym5QhLx0"
      }
    },
    {
      "cell_type": "markdown",
      "source": [
        "# 概要\n",
        "\n",
        "このColab NoteBookは，製作者がMicrosoft AzureのCognitive service Computer Visionの機能を試し，画像を入力することで画像説明を出力するプログラムである．\n",
        "\n",
        "## 目的\n",
        "* 製作者がMicrosoft AzureのCognitive service Computer Visionに関して理解を深める\n",
        "* SNSなどの投稿へALTをつけるハードルを下げて，ALTをつけることを普及する\n",
        "\n",
        "## ALTとは？\n",
        "ALTとは，Webページなどにおいては，画像が読み込めなかったときに代替として表示されるテキストのことを指す．Twitterやその他のSNSでもユーザーがつけることができ，音声読み上げ機能を使う人に対して，その画像にどのような情報が含まれているかを占めることができる．\n",
        "\n",
        "## 質問，連絡先\n",
        "質問・要望form [Google From](https://docs.google.com/forms/d/e/1FAIpQLSey_kOFnQ6nbS3sZ0v5u_J5Asv6_pMFSFIimZ0ZZ9sYOg8zKQ/viewform?usp=sf_link)\n",
        "\n",
        "Twitter [@yuneko_monolog](https://twitter.com/yuneko_monolog)"
      ],
      "metadata": {
        "id": "uw4nd3eSebXr"
      }
    },
    {
      "cell_type": "markdown",
      "source": [
        "# Image to ALTの使い方\n",
        "\n",
        "実行するためのAPIキー，エンドポイントはユーザーのものを入力してください．\n",
        "今後Webページ上で画像を入力するだけですべての人が利用できるようなものを公開できるように，開発を行っています．\n",
        "\n",
        "## 1.   ①APIキー、エンドポイントの設定を実行し、APIキーとエンドポイントを入力する\n",
        "## 2.   ②Importを実行する(左の▶を押す)\n",
        "## 3.   ③画像のアップロードを実行する\n",
        "## 4.   コードの下に表示される，ファイルをアップロードを押してアップロードする．\n",
        "## 5.   ④ALTの生成を実行する(日本語と英語があります)\n",
        "\n",
        "\n",
        "\n"
      ],
      "metadata": {
        "id": "HZurUAc6hfaG"
      }
    },
    {
      "cell_type": "markdown",
      "source": [
        "# ①APIキー、エンドポイントの設定"
      ],
      "metadata": {
        "id": "-b-AursCfvjx"
      }
    },
    {
      "cell_type": "code",
      "source": [
        "# Azure Cognitive Services Computer Vision APIのキーとエンドポイントを設定する\n",
        "subscription_key = input(\"APIキーを入力してください\")\n",
        "endpoint = input(\"エンドポイントを入力してください\")"
      ],
      "metadata": {
        "id": "OZg6hXkbf3qf"
      },
      "execution_count": null,
      "outputs": []
    },
    {
      "cell_type": "markdown",
      "source": [
        "# ②Import"
      ],
      "metadata": {
        "id": "l3eKl4-pjIEx"
      }
    },
    {
      "cell_type": "code",
      "execution_count": null,
      "metadata": {
        "id": "jroHQKihw3gi"
      },
      "outputs": [],
      "source": [
        "import io\n",
        "from pathlib import Path\n",
        "from PIL import Image\n",
        "!pip install azure-cognitiveservices-vision-computervision\n",
        "from azure.cognitiveservices.vision.computervision import ComputerVisionClient\n",
        "from msrest.authentication import CognitiveServicesCredentials\n",
        "\n",
        "# Computer Vision APIクライアントを作成する\n",
        "computervision_client = ComputerVisionClient(endpoint, CognitiveServicesCredentials(subscription_key))"
      ]
    },
    {
      "cell_type": "markdown",
      "source": [
        "# ③画像のアップロード"
      ],
      "metadata": {
        "id": "fUVCVb2OjTl-"
      }
    },
    {
      "cell_type": "code",
      "source": [
        "from google.colab import files\n",
        "uploaded = files.upload()\n",
        "\n",
        "for file_name in uploaded.keys():\n",
        "    image_path = '/content/' + file_name\n",
        "\n",
        "# 画像を読み込む\n",
        "with open(image_path, \"rb\") as image_file:\n",
        "    image_data = image_file.read()\n",
        "\n",
        "# Pillowで画像をリサイズする\n",
        "max_size = (1000, 1000)  # リサイズ後の最大サイズ\n",
        "image = Image.open(io.BytesIO(image_data))\n",
        "image.thumbnail(max_size, Image.ANTIALIAS)\n",
        "image_data_resized = io.BytesIO()\n",
        "image.save(image_data_resized, format='JPEG')\n",
        "image_data_resized.seek(0)\n",
        "\n",
        "# 画像をバイト列に変換する\n",
        "image_data = image_data_resized.getvalue()\n",
        "\n",
        "# バイト列をストリームに変換する\n",
        "image_stream = io.BytesIO(image_data)"
      ],
      "metadata": {
        "id": "OdpjA5j_jS0h"
      },
      "execution_count": null,
      "outputs": []
    },
    {
      "cell_type": "markdown",
      "source": [
        "# ④日本語でのALTの生成"
      ],
      "metadata": {
        "id": "bHrToFsdnxpV"
      }
    },
    {
      "cell_type": "code",
      "source": [
        "# Computer Vision APIを使用して画像の説明を取得する EN\n",
        "image_analysisJP = computervision_client.describe_image_in_stream(image_stream, language = 'ja')\n",
        "\n",
        "# 説明を表示する EN\n",
        "print(image_analysisJP.captions[0].text)"
      ],
      "metadata": {
        "id": "a2LuqzD5n2tU"
      },
      "execution_count": null,
      "outputs": []
    },
    {
      "cell_type": "markdown",
      "source": [
        "# ④英語でのALTの生成"
      ],
      "metadata": {
        "id": "9xExfw_-mjkn"
      }
    },
    {
      "cell_type": "code",
      "source": [
        "# Computer Vision APIを使用して画像の説明を取得する EN\n",
        "image_analysisEN = computervision_client.describe_image_in_stream(image_stream)\n",
        "\n",
        "# 説明を表示する EN\n",
        "print(image_analysisEN.captions[0].text)"
      ],
      "metadata": {
        "id": "lKdVMeXrxDkJ"
      },
      "execution_count": null,
      "outputs": []
    }
  ]
}